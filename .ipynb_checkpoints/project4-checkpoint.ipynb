{
 "cells": [
  {
   "cell_type": "code",
   "execution_count": 2,
   "id": "33c204aa",
   "metadata": {},
   "outputs": [],
   "source": [
    "import pandas as pd\n",
    "import yaml"
   ]
  },
  {
   "cell_type": "code",
   "execution_count": 4,
   "id": "90aa37e6",
   "metadata": {},
   "outputs": [],
   "source": [
    "# Create a sample DataFrame\n",
    "data = {\n",
    "    \"Songs\": [\n",
    "        {\n",
    "            \"Title\": \"Bohemian Rhapsody\",\n",
    "            \"Artist\": \"Queen\",\n",
    "            \"Album\": \"A Night at the Opera\",\n",
    "            \"Year\": 1975,\n",
    "            \"Hometown City\": \"London\"\n",
    "        },\n",
    "        {\n",
    "            \"Title\": \"Stairway to Heaven\",\n",
    "            \"Artist\": \"Led Zeppelin\",\n",
    "            \"Album\": \"IV\",\n",
    "            \"Year\": 1971,\n",
    "            \"Hometown City\": \"London\"\n",
    "        },\n",
    "        {\n",
    "            \"Title\": \"Imagine\",\n",
    "            \"Artist\": \"John Lennon\",\n",
    "            \"Album\": \"Imagine\",\n",
    "            \"Year\": 1971,\n",
    "            \"Hometown City\": \"Liverpool\"\n",
    "        },\n",
    "        {\n",
    "            \"Title\": \"What's Going On\",\n",
    "            \"Artist\": \"Marvin Gaye\",\n",
    "            \"Album\": \"What's Going On\",\n",
    "            \"Year\": 1971,\n",
    "            \"Hometown City\": \"Washington D.C.\"\n",
    "        },\n",
    "        {\n",
    "            \"Title\": \"I Want to Hold Your Hand\",\n",
    "            \"Artist\": \"The Beatles\",\n",
    "            \"Album\": \"Meet the Beatles!\",\n",
    "            \"Year\": 1964,\n",
    "            \"Hometown City\": \"Liverpool\"\n",
    "        }\n",
    "    ]\n",
    "}"
   ]
  },
  {
   "cell_type": "code",
   "execution_count": 6,
   "id": "6c8a7686",
   "metadata": {},
   "outputs": [],
   "source": [
    "df = pd.DataFrame(data)\n",
    "\n",
    "# Write the DataFrame to an XML file\n",
    "df.to_xml('data.xml', index=False)"
   ]
  },
  {
   "cell_type": "code",
   "execution_count": 7,
   "id": "3feb5661",
   "metadata": {},
   "outputs": [],
   "source": [
    "df.to_json('data.json')"
   ]
  },
  {
   "cell_type": "code",
   "execution_count": 9,
   "id": "7c7d09ef",
   "metadata": {},
   "outputs": [],
   "source": [
    "with open(\"data.yml\", \"w\") as file:\n",
    "    yaml.dump(data, file)"
   ]
  },
  {
   "cell_type": "code",
   "execution_count": null,
   "id": "b4f241b5",
   "metadata": {},
   "outputs": [],
   "source": []
  }
 ],
 "metadata": {
  "kernelspec": {
   "display_name": "Python 3 (ipykernel)",
   "language": "python",
   "name": "python3"
  },
  "language_info": {
   "codemirror_mode": {
    "name": "ipython",
    "version": 3
   },
   "file_extension": ".py",
   "mimetype": "text/x-python",
   "name": "python",
   "nbconvert_exporter": "python",
   "pygments_lexer": "ipython3",
   "version": "3.9.7"
  }
 },
 "nbformat": 4,
 "nbformat_minor": 5
}
